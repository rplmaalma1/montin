{
 "cells": [
  {
   "cell_type": "code",
   "execution_count": 1,
   "id": "2196cf24-a486-4d6d-a3a2-b0ad9ed26cab",
   "metadata": {},
   "outputs": [],
   "source": [
    "import numpy as np"
   ]
  },
  {
   "cell_type": "code",
   "execution_count": 26,
   "id": "0a5621ce-a3f2-4339-a460-e201635c0638",
   "metadata": {},
   "outputs": [
    {
     "data": {
      "text/plain": [
       "array([109, 148, 109])"
      ]
     },
     "execution_count": 26,
     "metadata": {},
     "output_type": "execute_result"
    }
   ],
   "source": [
    "sensor_values = np.random.randint(90, 200 + 1, size=3)\n",
    "sensor_values"
   ]
  },
  {
   "cell_type": "code",
   "execution_count": 27,
   "id": "29e53b46-7ff5-4902-8eb7-83d7189cb9a8",
   "metadata": {},
   "outputs": [],
   "source": [
    "Q1 = np.percentile(sensor_values, 25)  # Kuartil pertama (25th percentile)\n",
    "Q3 = np.percentile(sensor_values, 75)  # Kuartil ketiga (75th percentile)\n",
    "IQR = Q3 - Q1"
   ]
  },
  {
   "cell_type": "code",
   "execution_count": 28,
   "id": "2dcfd6e1-d32d-46cb-a8a5-4f5de42bbc5d",
   "metadata": {},
   "outputs": [
    {
     "data": {
      "text/plain": [
       "109.0"
      ]
     },
     "execution_count": 28,
     "metadata": {},
     "output_type": "execute_result"
    }
   ],
   "source": [
    "Q1"
   ]
  },
  {
   "cell_type": "code",
   "execution_count": 29,
   "id": "2568a917-e5e6-4afa-ac8e-a1d26ceb8354",
   "metadata": {},
   "outputs": [
    {
     "data": {
      "text/plain": [
       "128.5"
      ]
     },
     "execution_count": 29,
     "metadata": {},
     "output_type": "execute_result"
    }
   ],
   "source": [
    "Q3"
   ]
  },
  {
   "cell_type": "code",
   "execution_count": 30,
   "id": "ebbb2fb2-1e13-4a84-aa6e-8f716a64b5ed",
   "metadata": {},
   "outputs": [
    {
     "data": {
      "text/plain": [
       "19.5"
      ]
     },
     "execution_count": 30,
     "metadata": {},
     "output_type": "execute_result"
    }
   ],
   "source": [
    "IQR"
   ]
  },
  {
   "cell_type": "code",
   "execution_count": 31,
   "id": "796f07d1-4e7b-443b-bf6e-0786c2be7bc7",
   "metadata": {},
   "outputs": [
    {
     "data": {
      "text/plain": [
       "[79.75, 157.75]"
      ]
     },
     "execution_count": 31,
     "metadata": {},
     "output_type": "execute_result"
    }
   ],
   "source": [
    "lower_bound = Q1 - 1.5 * IQR\n",
    "upper_bound = Q3 + 1.5 * IQR\n",
    "\n",
    "[lower_bound, upper_bound]"
   ]
  },
  {
   "cell_type": "code",
   "execution_count": 32,
   "id": "78191527-cafe-43ea-8210-00d5e5366211",
   "metadata": {},
   "outputs": [
    {
     "data": {
      "text/plain": [
       "109.0"
      ]
     },
     "execution_count": 32,
     "metadata": {},
     "output_type": "execute_result"
    }
   ],
   "source": [
    "# Menghapus outlier\n",
    "filtered_values = sensor_values[(sensor_values >= lower_bound) & (sensor_values <= upper_bound)]\n",
    "\n",
    "# Menghitung nilai yang valid (menggunakan median atau rata-rata)\n",
    "nilai_valid = np.median(filtered_values)  # Menggunakan median untuk nilai yang lebih robust terhadap outlier\n",
    "# nilai_valid = np.mean(filtered_values)  # Bisa juga menggunakan rata-rata\n",
    "nilai_valid"
   ]
  }
 ],
 "metadata": {
  "kernelspec": {
   "display_name": "Python 3 (ipykernel)",
   "language": "python",
   "name": "python3"
  },
  "language_info": {
   "codemirror_mode": {
    "name": "ipython",
    "version": 3
   },
   "file_extension": ".py",
   "mimetype": "text/x-python",
   "name": "python",
   "nbconvert_exporter": "python",
   "pygments_lexer": "ipython3",
   "version": "3.10.5"
  }
 },
 "nbformat": 4,
 "nbformat_minor": 5
}
